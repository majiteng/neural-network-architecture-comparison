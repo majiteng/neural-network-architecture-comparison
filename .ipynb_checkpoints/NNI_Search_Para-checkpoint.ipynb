{
 "cells": [
  {
   "cell_type": "code",
   "execution_count": 9,
   "id": "4fc536a4-bd30-41c5-970f-b7f574bef674",
   "metadata": {},
   "outputs": [],
   "source": [
    "search_space = {\n",
    "#     'features': {'_type': 'choice', '_value': [64, 128, 256]},\n",
    "    'lr': {'_type': 'loguniform', '_value': [0.00001, 0.1]},\n",
    "#     'momentum': {'_type': 'uniform', '_value': [0, 1]},\n",
    "}"
   ]
  },
  {
   "cell_type": "code",
   "execution_count": 10,
   "id": "e9060d66-c619-46fe-82c5-8f19236e3dbe",
   "metadata": {},
   "outputs": [],
   "source": [
    "from nni.experiment import Experiment\n",
    "experiment = Experiment('local')"
   ]
  },
  {
   "cell_type": "code",
   "execution_count": 11,
   "id": "3ba3cb89-6377-4a5d-9e07-f0d56721ec50",
   "metadata": {},
   "outputs": [],
   "source": [
    "experiment.config.trial_command = 'python ~/jiteng/magzine_comparison/MLP.py'\n",
    "# experiment.config.trial_command = 'python ~/jiteng/magzine_comparison/DoubleBox_NNI_GNN.py'\n",
    "experiment.config.trial_code_directory = '.'"
   ]
  },
  {
   "cell_type": "code",
   "execution_count": 12,
   "id": "b3ccaa22-f607-43fc-87ed-15efe1925362",
   "metadata": {},
   "outputs": [],
   "source": [
    "experiment.config.search_space = search_space"
   ]
  },
  {
   "cell_type": "code",
   "execution_count": 13,
   "id": "24f97696-b05c-4c4c-b33a-dcc7a50d3335",
   "metadata": {},
   "outputs": [],
   "source": [
    "experiment.config.tuner.name = 'TPE'\n",
    "experiment.config.tuner.class_args['optimize_mode'] = 'minimize'"
   ]
  },
  {
   "cell_type": "code",
   "execution_count": 14,
   "id": "b24045f5-0de5-45a4-95d2-2393ca4979ef",
   "metadata": {},
   "outputs": [],
   "source": [
    "experiment.config.max_trial_number = 15\n",
    "experiment.config.trial_concurrency = 5"
   ]
  },
  {
   "cell_type": "code",
   "execution_count": 15,
   "id": "62e94094-87ce-4712-865b-b2f6ece82299",
   "metadata": {},
   "outputs": [
    {
     "name": "stdout",
     "output_type": "stream",
     "text": [
      "[2024-02-25 01:37:24] \u001b[32mCreating experiment, Experiment ID: \u001b[36mae8hou25\u001b[0m\n",
      "[2024-02-25 01:37:24] \u001b[32mStarting web server...\u001b[0m\n",
      "[2024-02-25 01:37:25] \u001b[32mSetting up...\u001b[0m\n",
      "[2024-02-25 01:37:25] \u001b[32mWeb portal URLs: \u001b[36mhttp://127.0.0.1:8080 http://10.70.26.65:8080 http://172.17.0.1:8080\u001b[0m\n"
     ]
    }
   ],
   "source": [
    "experiment.run(8080)"
   ]
  },
  {
   "cell_type": "code",
   "execution_count": null,
   "id": "aa450770-d3e2-450e-8119-09bd0e539ed8",
   "metadata": {},
   "outputs": [],
   "source": []
  }
 ],
 "metadata": {
  "kernelspec": {
   "display_name": "Python 3",
   "language": "python",
   "name": "python3"
  },
  "language_info": {
   "codemirror_mode": {
    "name": "ipython",
    "version": 3
   },
   "file_extension": ".py",
   "mimetype": "text/x-python",
   "name": "python",
   "nbconvert_exporter": "python",
   "pygments_lexer": "ipython3",
   "version": "3.8.11"
  }
 },
 "nbformat": 4,
 "nbformat_minor": 5
}
